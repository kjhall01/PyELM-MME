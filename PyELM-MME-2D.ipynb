{
 "cells": [
  {
   "cell_type": "markdown",
   "metadata": {},
   "source": [
    "# 1. Notebook Settings"
   ]
  },
  {
   "cell_type": "code",
   "execution_count": 1,
   "metadata": {},
   "outputs": [],
   "source": [
    "#Directory data loading parameters - training data\n",
    "ncdf_directory = 'test_data/hindcasts/'              #name of directory with separate ncdf files for observations and each model \n",
    "observations_file = 'chirps_hindcast.nc'    #name of file within ncdf_directory with observations data\n",
    "\n",
    "#Single File loading parameters - training data\n",
    "filepath = 'None'                    #path to a file with netCDF data containing observations and all models \n",
    "observations_key = 'observations'         #name of the variable containing observations in your ncdf file\n",
    "\n",
    "\n",
    "#Directory data loading parameters - forecast data\n",
    "f_ncdf_directory = 'test_data/forecasts/'              #name of directory with separate ncdf files for observations and each model \n",
    "\n",
    "#Single File Loading parameters - forecast data\n",
    "f_filepath = 'None'                    #path to a file with netCDF data containing observations and all models \n",
    "\n",
    "#shared loading parameters\n",
    "latitude_key = 'Y'                        #name of latitude coordinate in your ncdf file\n",
    "longitude_key='X'                         #name of longitude coordinate in your ncdf file \n",
    "time_key = 'S'                            #name of time coordinate in your ncdf file \n",
    "observations_time_key='T'\n",
    "using_datetime = False                    #do your ncdf files use the DateTime object for time keys? or a different format\n",
    "axis_order = 'txy'                        #what are the order of the axes within these files - 'txy' for time, x, y.  x, y, time automatically supported. others not supported.\n",
    "\n",
    "#MME Save/Load settings\n",
    "load_mme = 'None' #path of saved mme file to load\n",
    "save_file = 'test12.mme' #where to save new mme\n",
    "hindcast_export_file = 'None'"
   ]
  },
  {
   "cell_type": "markdown",
   "metadata": {},
   "source": [
    "# 2. MME Skill Evaluation\n",
    "#### 2a. Analysis Settings"
   ]
  },
  {
   "cell_type": "code",
   "execution_count": 2,
   "metadata": {},
   "outputs": [],
   "source": [
    "#analysis parameters \n",
    "mme_methodologies = ['EM', 'BCEM', 'MLR', 'PCR', 'SVD', 'ELM', 'EWP',  'PCA-ELM' ] #'MLR', 'PCR', 'SVD', 'ELM', 'EWP',list of MME methodologies to use - available: ['EM', 'MLR', 'ELM', 'Ridge'] 'SLFN' also works but is slow for 2D data\n",
    "metrics = ['SpearmanCoef', 'PearsonCoef', 'RMSE', 'MAE', 'IOA'] #list of metrics to compute - available: ['SpearmanCoef', 'SpearmanP', 'PearsonCoef', 'PearsonP', 'MSE', 'MAE', 'RMSE', 'IOA']\n",
    "\n",
    "#skill plotting parameters - select what skill to plot \n",
    "metrics_to_plot_skill = ['SpearmanCoef',  'PearsonCoef',  'RMSE', 'IOA'] #you have to have selected these for analysis in order to plot them \n",
    "mme_methodologies_to_plot_skill = [ 'EM', 'BCEM', 'PCA-ELM'] #' 'MLR', 'PCR', 'Obs', 'ELM', 'EWP','SVD',you have to have selected these for analysis in order to plot them \n",
    "models_to_plot_skill = ['Model 1', 'Model 2'] #'Model {}' from 1 to n mme member models"
   ]
  },
  {
   "cell_type": "markdown",
   "metadata": {},
   "source": [
    "#### 2b. Model Parameters"
   ]
  },
  {
   "cell_type": "code",
   "execution_count": 3,
   "metadata": {},
   "outputs": [],
   "source": [
    "#EnsembleMean settings\n",
    "em_xval_window = 1   #odd number - behavior undefined for even number\n",
    "\n",
    "#Bias-Corrected Ensemble Mean\n",
    "bcem_xval_window = 1 # odd\n",
    "\n",
    "#MLR Settings\n",
    "mlr_fit_intercept = True #Whether to calculate the intercept for this model. If set to False, no intercept will be used in calculations (i.e. data is expected to be centered) (https://scikit-learn.org/stable/modules/generated/sklearn.linear_model.LinearRegression.html)\n",
    "mlr_xval_window = 1   #odd number - behavior undefined for even number\n",
    "mlr_standardization = None  #'std_anomaly' or None\n",
    "\n",
    "#PCR Settings\n",
    "pcr_fit_intercept = True #Whether to calculate the intercept for this model. If set to False, no intercept will be used in calculations (i.e. data is expected to be centered) (https://scikit-learn.org/stable/modules/generated/sklearn.linear_model.LinearRegression.html)\n",
    "pcr_xval_window = 1   #odd number - behavior undefined for even number\n",
    "pcr_standardization = None  #'std_anomaly' or None\n",
    "pcr_pca_variability = 0.90\n",
    "\n",
    "#SVD settings\n",
    "svd_xval_window = 1 #odd number - behavior undefined for even number\n",
    "svd_standardization = None #'minmax' or 'std_anomaly' or None\n",
    "\n",
    "#ELM Settings \n",
    "elm_xval_window = 1 #odd number - behavior undefined for even number\n",
    "elm_hidden_layer_neurons=10 #number of hidden layer neurons - overridden if using PCA init\n",
    "elm_activation='sigm' #“lin” for linear, “sigm” or “tanh” for non-linear, “rbf_l1”, “rbf_l2” or “rbf_linf” for radial basis function neurons (https://hpelm.readthedocs.io/en/latest/api/elm.html)\n",
    "elm_standardization= 'minmax' #'minmax' or 'std_anomaly' or None\n",
    "elm_minmax_range = [-1, 1] #choose [minimum, maximum] values for minmax scaling. ignored if not using minmax scaling\n",
    "\n",
    "#ELM with PCA Settings \n",
    "ewp_xval_window = 1 #odd number - behavior undefined for even number\n",
    "ewp_hidden_layer_neurons=10 #number of hidden layer neurons - overridden if using PCA init\n",
    "ewp_activation='sigm' #“lin” for linear, “sigm” or “tanh” for non-linear, “rbf_l1”, “rbf_l2” or “rbf_linf” for radial basis function neurons (https://hpelm.readthedocs.io/en/latest/api/elm.html)\n",
    "ewp_standardization= 'minmax' #'minmax' or 'std_anomaly' or None\n",
    "ewp_minmax_range = [-1, 1] #choose [minimum, maximum] values for minmax scaling. ignored if not using minmax scaling\n",
    "ewp_pca_variability = 0.90 #choose fraction of variability to keep with PCA\n",
    "\n",
    "#PCA-ELM Settings \n",
    "pcaelm_xval_window = 1 #odd number - behavior undefined for even number\n",
    "pcaelm_activation='sigm' #“lin” for linear, “sigm” or “tanh” for non-linear (https://hpelm.readthedocs.io/en/latest/api/elm.html)\n",
    "pcaelm_standardization= None #'minmax' or 'std_anomaly' or None\n",
    "pcaelm_minmax_range = [-1, 1] #choose [minimum, maximum] values for minmax scaling. ignored if not using minmax scaling\n",
    "pcaelm_pca_variability = 0.99 #percent of variability to retain - hidden layer neurons determined automatically"
   ]
  },
  {
   "cell_type": "markdown",
   "metadata": {},
   "source": [
    "#### 2c. Model Construction - Do Not Edit"
   ]
  },
  {
   "cell_type": "code",
   "execution_count": 4,
   "metadata": {},
   "outputs": [
    {
     "name": "stdout",
     "output_type": "stream",
     "text": [
      "Dill Pickle undetected: Just saving data, forgetting models. Try \"conda install dill\"\n",
      "Dill Pickle undetected: Just saving data, forgetting models. Try \"conda install dill\"\n",
      "Files Read:\n",
      "cansipsv2_hindcast.nc chirps_hindcast.nc\n",
      "cola_hindcast.nc chirps_hindcast.nc\n",
      "flor_b01_hindcast.nc chirps_hindcast.nc\n",
      "chirps_hindcast.nc chirps_hindcast.nc\n",
      "flor_a06_hindcast.nc chirps_hindcast.nc\n",
      "\n",
      "Computing MMEs\n",
      "EM\n",
      "BCEM\n",
      "MLR\n",
      "PCR\n",
      "SVD\n",
      "ELM\n",
      "EWP\n",
      "PCA-ELM\n",
      "\n",
      "Calculating Skill\n",
      "SpearmanCoef\n",
      "PearsonCoef\n",
      "[nan nan nan nan nan nan nan nan nan nan nan nan nan nan nan nan nan nan\n",
      " nan nan nan nan nan nan nan nan nan nan nan nan nan nan nan nan nan nan\n",
      " nan]\n",
      "[nan nan nan nan nan nan nan nan nan nan nan nan nan nan nan nan nan nan\n",
      " nan nan nan nan nan nan nan nan nan nan nan nan nan nan nan nan nan nan\n",
      " nan]\n",
      "[nan nan nan nan nan nan nan nan nan nan nan nan nan nan nan nan nan nan\n",
      " nan nan nan nan nan nan nan nan nan nan nan nan nan nan nan nan nan nan\n",
      " nan]\n",
      "[nan nan nan nan nan nan nan nan nan nan nan nan nan nan nan nan nan nan\n",
      " nan nan nan nan nan nan nan nan nan nan nan nan nan nan nan nan nan nan\n",
      " nan]\n",
      "[nan nan nan nan nan nan nan nan nan nan nan nan nan nan nan nan nan nan\n",
      " nan nan nan nan nan nan nan nan nan nan nan nan nan nan nan nan nan nan\n",
      " nan]\n",
      "[nan nan nan nan nan nan nan nan nan nan nan nan nan nan nan nan nan nan\n",
      " nan nan nan nan nan nan nan nan nan nan nan nan nan nan nan nan nan nan\n",
      " nan]\n",
      "[nan nan nan nan nan nan nan nan nan nan nan nan nan nan nan nan nan nan\n",
      " nan nan nan nan nan nan nan nan nan nan nan nan nan nan nan nan nan nan\n",
      " nan]\n",
      "[nan nan nan nan nan nan nan nan nan nan nan nan nan nan nan nan nan nan\n",
      " nan nan nan nan nan nan nan nan nan nan nan nan nan nan nan nan nan nan\n",
      " nan]\n",
      "[nan nan nan nan nan nan nan nan nan nan nan nan nan nan nan nan nan nan\n",
      " nan nan nan nan nan nan nan nan nan nan nan nan nan nan nan nan nan nan\n",
      " nan]\n",
      "[nan nan nan nan nan nan nan nan nan nan nan nan nan nan nan nan nan nan\n",
      " nan nan nan nan nan nan nan nan nan nan nan nan nan nan nan nan nan nan\n",
      " nan]\n",
      "[nan nan nan nan nan nan nan nan nan nan nan nan nan nan nan nan nan nan\n",
      " nan nan nan nan nan nan nan nan nan nan nan nan nan nan nan nan nan nan\n",
      " nan]\n",
      "[nan nan nan nan nan nan nan nan nan nan nan nan nan nan nan nan nan nan\n",
      " nan nan nan nan nan nan nan nan nan nan nan nan nan nan nan nan nan nan\n",
      " nan]\n",
      "[nan nan nan nan nan nan nan nan nan nan nan nan nan nan nan nan nan nan\n",
      " nan nan nan nan nan nan nan nan nan nan nan nan nan nan nan nan nan nan\n",
      " nan]\n",
      "[nan nan nan nan nan nan nan nan nan nan nan nan nan nan nan nan nan nan\n",
      " nan nan nan nan nan nan nan nan nan nan nan nan nan nan nan nan nan nan\n",
      " nan]\n",
      "[nan nan nan nan nan nan nan nan nan nan nan nan nan nan nan nan nan nan\n",
      " nan nan nan nan nan nan nan nan nan nan nan nan nan nan nan nan nan nan\n",
      " nan]\n",
      "[nan nan nan nan nan nan nan nan nan nan nan nan nan nan nan nan nan nan\n",
      " nan nan nan nan nan nan nan nan nan nan nan nan nan nan nan nan nan nan\n",
      " nan]\n",
      "[nan nan nan nan nan nan nan nan nan nan nan nan nan nan nan nan nan nan\n",
      " nan nan nan nan nan nan nan nan nan nan nan nan nan nan nan nan nan nan\n",
      " nan]\n",
      "[nan nan nan nan nan nan nan nan nan nan nan nan nan nan nan nan nan nan\n",
      " nan nan nan nan nan nan nan nan nan nan nan nan nan nan nan nan nan nan\n",
      " nan]\n",
      "[nan nan nan nan nan nan nan nan nan nan nan nan nan nan nan nan nan nan\n",
      " nan nan nan nan nan nan nan nan nan nan nan nan nan nan nan nan nan nan\n",
      " nan]\n",
      "[nan nan nan nan nan nan nan nan nan nan nan nan nan nan nan nan nan nan\n",
      " nan nan nan nan nan nan nan nan nan nan nan nan nan nan nan nan nan nan\n",
      " nan]\n",
      "[nan nan nan nan nan nan nan nan nan nan nan nan nan nan nan nan nan nan\n",
      " nan nan nan nan nan nan nan nan nan nan nan nan nan nan nan nan nan nan\n",
      " nan]\n",
      "[nan nan nan nan nan nan nan nan nan nan nan nan nan nan nan nan nan nan\n",
      " nan nan nan nan nan nan nan nan nan nan nan nan nan nan nan nan nan nan\n",
      " nan]\n",
      "[nan nan nan nan nan nan nan nan nan nan nan nan nan nan nan nan nan nan\n",
      " nan nan nan nan nan nan nan nan nan nan nan nan nan nan nan nan nan nan\n",
      " nan]\n",
      "[nan nan nan nan nan nan nan nan nan nan nan nan nan nan nan nan nan nan\n",
      " nan nan nan nan nan nan nan nan nan nan nan nan nan nan nan nan nan nan\n",
      " nan]\n",
      "[nan nan nan nan nan nan nan nan nan nan nan nan nan nan nan nan nan nan\n",
      " nan nan nan nan nan nan nan nan nan nan nan nan nan nan nan nan nan nan\n",
      " nan]\n",
      "[nan nan nan nan nan nan nan nan nan nan nan nan nan nan nan nan nan nan\n",
      " nan nan nan nan nan nan nan nan nan nan nan nan nan nan nan nan nan nan\n",
      " nan]\n",
      "[nan nan nan nan nan nan nan nan nan nan nan nan nan nan nan nan nan nan\n",
      " nan nan nan nan nan nan nan nan nan nan nan nan nan nan nan nan nan nan\n",
      " nan]\n",
      "[nan nan nan nan nan nan nan nan nan nan nan nan nan nan nan nan nan nan\n",
      " nan nan nan nan nan nan nan nan nan nan nan nan nan nan nan nan nan nan\n",
      " nan]\n",
      "[nan nan nan nan nan nan nan nan nan nan nan nan nan nan nan nan nan nan\n",
      " nan nan nan nan nan nan nan nan nan nan nan nan nan nan nan nan nan nan\n",
      " nan]\n",
      "[nan nan nan nan nan nan nan nan nan nan nan nan nan nan nan nan nan nan\n",
      " nan nan nan nan nan nan nan nan nan nan nan nan nan nan nan nan nan nan\n",
      " nan]\n"
     ]
    },
    {
     "ename": "IndexError",
     "evalue": "too many indices for array",
     "output_type": "error",
     "traceback": [
      "\u001b[0;31m---------------------------------------------------------------------------\u001b[0m",
      "\u001b[0;31mFileNotFoundError\u001b[0m                         Traceback (most recent call last)",
      "\u001b[0;32m~/Projects/PyMME/pymme.py\u001b[0m in \u001b[0;36mload\u001b[0;34m(self, fname)\u001b[0m\n\u001b[1;32m   1275\u001b[0m                         \u001b[0mprint\u001b[0m\u001b[0;34m(\u001b[0m\u001b[0;34m'Dill Pickle undetected: Just saving data, forgetting models. Try \"conda install dill\"'\u001b[0m\u001b[0;34m)\u001b[0m\u001b[0;34m\u001b[0m\u001b[0;34m\u001b[0m\u001b[0m\n\u001b[0;32m-> 1276\u001b[0;31m                         \u001b[0mtoload\u001b[0m \u001b[0;34m=\u001b[0m \u001b[0mpickle\u001b[0m\u001b[0;34m.\u001b[0m\u001b[0mload\u001b[0m\u001b[0;34m(\u001b[0m\u001b[0mopen\u001b[0m\u001b[0;34m(\u001b[0m\u001b[0mfname\u001b[0m\u001b[0;34m,\u001b[0m \u001b[0;34m'rb'\u001b[0m\u001b[0;34m)\u001b[0m\u001b[0;34m)\u001b[0m\u001b[0;34m\u001b[0m\u001b[0;34m\u001b[0m\u001b[0m\n\u001b[0m\u001b[1;32m   1277\u001b[0m                         \u001b[0mnew\u001b[0m \u001b[0;34m=\u001b[0m \u001b[0mMME\u001b[0m\u001b[0;34m(\u001b[0m\u001b[0;34m)\u001b[0m\u001b[0;34m\u001b[0m\u001b[0;34m\u001b[0m\u001b[0m\n",
      "\u001b[0;31mFileNotFoundError\u001b[0m: [Errno 2] No such file or directory: 'None'",
      "\nDuring handling of the above exception, another exception occurred:\n",
      "\u001b[0;31mFileNotFoundError\u001b[0m                         Traceback (most recent call last)",
      "\u001b[0;32m<ipython-input-4-ef4866321bc7>\u001b[0m in \u001b[0;36m<module>\u001b[0;34m\u001b[0m\n\u001b[1;32m      2\u001b[0m \u001b[0;32mtry\u001b[0m\u001b[0;34m:\u001b[0m\u001b[0;34m\u001b[0m\u001b[0;34m\u001b[0m\u001b[0m\n\u001b[0;32m----> 3\u001b[0;31m     \u001b[0mmme\u001b[0m \u001b[0;34m=\u001b[0m \u001b[0mpm\u001b[0m\u001b[0;34m.\u001b[0m\u001b[0mMME\u001b[0m\u001b[0;34m.\u001b[0m\u001b[0mload\u001b[0m\u001b[0;34m(\u001b[0m\u001b[0mload_mme\u001b[0m\u001b[0;34m)\u001b[0m \u001b[0;31m#load saved MME object\u001b[0m\u001b[0;34m\u001b[0m\u001b[0;34m\u001b[0m\u001b[0m\n\u001b[0m\u001b[1;32m      4\u001b[0m \u001b[0;32mexcept\u001b[0m \u001b[0mFileNotFoundError\u001b[0m\u001b[0;34m:\u001b[0m\u001b[0;34m\u001b[0m\u001b[0;34m\u001b[0m\u001b[0m\n",
      "\u001b[0;32m~/Projects/PyMME/pymme.py\u001b[0m in \u001b[0;36mload\u001b[0;34m(self, fname)\u001b[0m\n\u001b[1;32m   1281\u001b[0m                         \u001b[0mprint\u001b[0m\u001b[0;34m(\u001b[0m\u001b[0;34m'Dill Pickle undetected: Just saving data, forgetting models. Try \"conda install dill\"'\u001b[0m\u001b[0;34m)\u001b[0m\u001b[0;34m\u001b[0m\u001b[0;34m\u001b[0m\u001b[0m\n\u001b[0;32m-> 1282\u001b[0;31m                         \u001b[0mnew\u001b[0m \u001b[0;34m=\u001b[0m \u001b[0mpickle\u001b[0m\u001b[0;34m.\u001b[0m\u001b[0mload\u001b[0m\u001b[0;34m(\u001b[0m\u001b[0mopen\u001b[0m\u001b[0;34m(\u001b[0m\u001b[0mfname\u001b[0m\u001b[0;34m,\u001b[0m \u001b[0;34m'rb'\u001b[0m\u001b[0;34m)\u001b[0m\u001b[0;34m)\u001b[0m\u001b[0;34m\u001b[0m\u001b[0;34m\u001b[0m\u001b[0m\n\u001b[0m\u001b[1;32m   1283\u001b[0m                 \u001b[0;32mreturn\u001b[0m \u001b[0mnew\u001b[0m\u001b[0;34m\u001b[0m\u001b[0;34m\u001b[0m\u001b[0m\n",
      "\u001b[0;31mFileNotFoundError\u001b[0m: [Errno 2] No such file or directory: 'None'",
      "\nDuring handling of the above exception, another exception occurred:\n",
      "\u001b[0;31mIndexError\u001b[0m                                Traceback (most recent call last)",
      "\u001b[0;32m<ipython-input-4-ef4866321bc7>\u001b[0m in \u001b[0;36m<module>\u001b[0;34m\u001b[0m\n\u001b[1;32m     41\u001b[0m         \u001b[0;32melif\u001b[0m \u001b[0mmetric\u001b[0m \u001b[0;32min\u001b[0m \u001b[0;34m[\u001b[0m\u001b[0;34m'PearsonCoef'\u001b[0m\u001b[0;34m,\u001b[0m \u001b[0;34m'PearsonP'\u001b[0m\u001b[0;34m]\u001b[0m \u001b[0;32mand\u001b[0m \u001b[0mpearson_flag\u001b[0m \u001b[0;34m==\u001b[0m \u001b[0;36m0\u001b[0m\u001b[0;34m:\u001b[0m\u001b[0;34m\u001b[0m\u001b[0;34m\u001b[0m\u001b[0m\n\u001b[1;32m     42\u001b[0m             \u001b[0mpearson_flag\u001b[0m \u001b[0;34m=\u001b[0m \u001b[0;36m1\u001b[0m\u001b[0;34m\u001b[0m\u001b[0;34m\u001b[0m\u001b[0m\n\u001b[0;32m---> 43\u001b[0;31m             \u001b[0mmme\u001b[0m\u001b[0;34m.\u001b[0m\u001b[0mPearson\u001b[0m\u001b[0;34m(\u001b[0m\u001b[0;34m)\u001b[0m\u001b[0;34m\u001b[0m\u001b[0;34m\u001b[0m\u001b[0m\n\u001b[0m\u001b[1;32m     44\u001b[0m         \u001b[0;32melif\u001b[0m \u001b[0mmetric\u001b[0m \u001b[0;34m==\u001b[0m \u001b[0;34m'MAE'\u001b[0m\u001b[0;34m:\u001b[0m\u001b[0;34m\u001b[0m\u001b[0;34m\u001b[0m\u001b[0m\n\u001b[1;32m     45\u001b[0m             \u001b[0mmme\u001b[0m\u001b[0;34m.\u001b[0m\u001b[0mMAE\u001b[0m\u001b[0;34m(\u001b[0m\u001b[0;34m)\u001b[0m\u001b[0;34m\u001b[0m\u001b[0;34m\u001b[0m\u001b[0m\n",
      "\u001b[0;32m~/Projects/PyMME/pymme.py\u001b[0m in \u001b[0;36mPearson\u001b[0;34m(self, setting)\u001b[0m\n\u001b[1;32m   1161\u001b[0m                                                                 \u001b[0mprint\u001b[0m\u001b[0;34m(\u001b[0m\u001b[0mnp\u001b[0m\u001b[0;34m.\u001b[0m\u001b[0msqueeze\u001b[0m\u001b[0;34m(\u001b[0m\u001b[0mself\u001b[0m\u001b[0;34m.\u001b[0m\u001b[0mhindcasts\u001b[0m\u001b[0;34m[\u001b[0m\u001b[0mkey\u001b[0m\u001b[0;34m]\u001b[0m\u001b[0;34m[\u001b[0m\u001b[0mi\u001b[0m\u001b[0;34m,\u001b[0m\u001b[0mj\u001b[0m\u001b[0;34m,\u001b[0m\u001b[0;34m:\u001b[0m\u001b[0;34m]\u001b[0m\u001b[0;34m.\u001b[0m\u001b[0mastype\u001b[0m\u001b[0;34m(\u001b[0m\u001b[0mfloat\u001b[0m\u001b[0;34m)\u001b[0m\u001b[0;34m)\u001b[0m\u001b[0;34m)\u001b[0m\u001b[0;34m\u001b[0m\u001b[0;34m\u001b[0m\u001b[0m\n\u001b[1;32m   1162\u001b[0m                                         \u001b[0mself\u001b[0m\u001b[0;34m.\u001b[0m\u001b[0mxval_hindcast_metrics\u001b[0m\u001b[0;34m[\u001b[0m\u001b[0;34m'PearsonCoef'\u001b[0m\u001b[0;34m]\u001b[0m\u001b[0;34m[\u001b[0m\u001b[0mkey\u001b[0m\u001b[0;34m]\u001b[0m \u001b[0;34m=\u001b[0m \u001b[0mnp\u001b[0m\u001b[0;34m.\u001b[0m\u001b[0masarray\u001b[0m\u001b[0;34m(\u001b[0m\u001b[0mmet\u001b[0m\u001b[0;34m)\u001b[0m\u001b[0;34m\u001b[0m\u001b[0;34m\u001b[0m\u001b[0m\n\u001b[0;32m-> 1163\u001b[0;31m                                         \u001b[0mself\u001b[0m\u001b[0;34m.\u001b[0m\u001b[0mxval_hindcast_metrics\u001b[0m\u001b[0;34m[\u001b[0m\u001b[0;34m'PearsonCoef'\u001b[0m\u001b[0;34m]\u001b[0m\u001b[0;34m[\u001b[0m\u001b[0mkey\u001b[0m\u001b[0;34m]\u001b[0m\u001b[0;34m[\u001b[0m\u001b[0mself\u001b[0m\u001b[0;34m.\u001b[0m\u001b[0mnanmask\u001b[0m\u001b[0;34m]\u001b[0m \u001b[0;34m=\u001b[0m \u001b[0mnp\u001b[0m\u001b[0;34m.\u001b[0m\u001b[0mnan\u001b[0m\u001b[0;34m\u001b[0m\u001b[0;34m\u001b[0m\u001b[0m\n\u001b[0m\u001b[1;32m   1164\u001b[0m                                         \u001b[0mself\u001b[0m\u001b[0;34m.\u001b[0m\u001b[0mxval_hindcast_metrics\u001b[0m\u001b[0;34m[\u001b[0m\u001b[0;34m'PearsonP'\u001b[0m\u001b[0;34m]\u001b[0m\u001b[0;34m[\u001b[0m\u001b[0mkey\u001b[0m\u001b[0;34m]\u001b[0m \u001b[0;34m=\u001b[0m \u001b[0mnp\u001b[0m\u001b[0;34m.\u001b[0m\u001b[0masarray\u001b[0m\u001b[0;34m(\u001b[0m\u001b[0mr\u001b[0m\u001b[0;34m)\u001b[0m\u001b[0;34m\u001b[0m\u001b[0;34m\u001b[0m\u001b[0m\n\u001b[1;32m   1165\u001b[0m                                         \u001b[0mself\u001b[0m\u001b[0;34m.\u001b[0m\u001b[0mxval_hindcast_metrics\u001b[0m\u001b[0;34m[\u001b[0m\u001b[0;34m'PearsonP'\u001b[0m\u001b[0;34m]\u001b[0m\u001b[0;34m[\u001b[0m\u001b[0mkey\u001b[0m\u001b[0;34m]\u001b[0m\u001b[0;34m[\u001b[0m\u001b[0mself\u001b[0m\u001b[0;34m.\u001b[0m\u001b[0mnanmask\u001b[0m\u001b[0;34m]\u001b[0m \u001b[0;34m=\u001b[0m \u001b[0mnp\u001b[0m\u001b[0;34m.\u001b[0m\u001b[0mnan\u001b[0m\u001b[0;34m\u001b[0m\u001b[0;34m\u001b[0m\u001b[0m\n",
      "\u001b[0;31mIndexError\u001b[0m: too many indices for array"
     ]
    }
   ],
   "source": [
    "import pymme as pm #load pymme files \n",
    "try:\n",
    "    mme = pm.MME.load(load_mme) #load saved MME object\n",
    "except FileNotFoundError:\n",
    "    mme = pm.MME() #create MME object \n",
    "    print('Files Read:')\n",
    "    try:\n",
    "        mme.read_multiple_ncdf(ncdf_directory, observations_file, latitude_key=latitude_key, longitude_key=longitude_key, time_key=time_key, obs_time_key=observations_time_key, axis_order=axis_order)\n",
    "    except:\n",
    "        mme.read_full_ncdf(filepath, latitude_key=latitude_key, longitude_key=longitude_key, time_key=time_key, observations_key=observations_key, using_datetime=using_datetime, axis_order=axis_order)\n",
    "    \n",
    "    print('\\nComputing MMEs')\n",
    "    for method in mme_methodologies:\n",
    "        print(method)\n",
    "        if method == 'MLR':\n",
    "            mme.construct_crossvalidated_mme_hindcasts(method, xval_window=mlr_xval_window, standardization=mlr_standardization, fit_intercept=mlr_fit_intercept)\n",
    "        elif method == 'PCR':\n",
    "            mme.construct_crossvalidated_mme_hindcasts(method, xval_window=pcr_xval_window, standardization=pcr_standardization, fit_intercept=pcr_fit_intercept, pca_variability=pcr_pca_variability)\n",
    "        elif method == 'ELM':\n",
    "            mme.construct_crossvalidated_mme_hindcasts(method, xval_window=elm_xval_window, hidden_layer_neurons=elm_hidden_layer_neurons, activation=elm_activation, standardization=elm_standardization, minmax_range=elm_minmax_range)\n",
    "        elif method== 'PCA-ELM':\n",
    "            mme.construct_crossvalidated_mme_hindcasts(method, xval_window=pcaelm_xval_window, activation=pcaelm_activation, standardization=pcaelm_standardization, minmax_range=pcaelm_minmax_range, pca_variability=pcaelm_pca_variability, W=True)\n",
    "        elif method== 'EWP':\n",
    "            mme.construct_crossvalidated_mme_hindcasts(method, xval_window=ewp_xval_window, hidden_layer_neurons=ewp_hidden_layer_neurons, activation=ewp_activation, standardization=ewp_standardization, minmax_range=ewp_minmax_range, pca_variability=ewp_pca_variability, W=False)\n",
    "        elif method == 'SVD':\n",
    "            mme.construct_crossvalidated_mme_hindcasts(method, xval_window=svd_xval_window, standardization=svd_standardization)\n",
    "        elif method == 'EM':\n",
    "            mme.construct_crossvalidated_mme_hindcasts(method, xval_window=em_xval_window, standardization=None)\n",
    "        elif method == 'BCEM':\n",
    "            mme.construct_crossvalidated_mme_hindcasts(method, xval_window=bcem_xval_window, standardization='std_anomaly')\n",
    "        else:\n",
    "            print('Invalid MME {}'.format(method))\n",
    "    \n",
    "    print('\\nCalculating Skill')\n",
    "    spearman_flag, pearson_flag = 0, 0\n",
    "    for metric in metrics:\n",
    "        print(metric)\n",
    "        if metric in ['SpearmanCoef', 'SpearmanP'] and spearman_flag == 0:\n",
    "            spearman_flag = 1 \n",
    "            mme.Spearman()\n",
    "        elif metric in ['PearsonCoef', 'PearsonP'] and pearson_flag == 0:\n",
    "            pearson_flag = 1\n",
    "            mme.Pearson()\n",
    "        elif metric == 'MAE':\n",
    "            mme.MAE()\n",
    "        elif metric == 'MSE':\n",
    "            mme.MSE()\n",
    "        elif metric == 'RMSE':\n",
    "            mme.MSE(squared=False)\n",
    "        elif metric == 'IOA':\n",
    "            mme.IOA()\n",
    "        else:\n",
    "            print('Invalid Metric {}'.format(metric))\n",
    "    \n",
    "    print('\\nDone')"
   ]
  },
  {
   "cell_type": "markdown",
   "metadata": {},
   "source": [
    "#### 2d. Cross-Validated Hindcast Skill Maps - Do Not Edit"
   ]
  },
  {
   "cell_type": "code",
   "execution_count": 5,
   "metadata": {},
   "outputs": [
    {
     "ename": "KeyError",
     "evalue": "'EM'",
     "output_type": "error",
     "traceback": [
      "\u001b[0;31m---------------------------------------------------------------------------\u001b[0m",
      "\u001b[0;31mKeyError\u001b[0m                                  Traceback (most recent call last)",
      "\u001b[0;32m<ipython-input-5-12335669dada>\u001b[0m in \u001b[0;36m<module>\u001b[0;34m\u001b[0m\n\u001b[0;32m----> 1\u001b[0;31m \u001b[0mmme\u001b[0m\u001b[0;34m.\u001b[0m\u001b[0mplot\u001b[0m\u001b[0;34m(\u001b[0m\u001b[0msetting\u001b[0m\u001b[0;34m=\u001b[0m\u001b[0;34m'xval_hindcast_skill'\u001b[0m\u001b[0;34m,\u001b[0m \u001b[0mhindcasts\u001b[0m\u001b[0;34m=\u001b[0m\u001b[0mmme_methodologies_to_plot_skill\u001b[0m\u001b[0;34m,\u001b[0m \u001b[0mmetrics\u001b[0m\u001b[0;34m=\u001b[0m\u001b[0mmetrics_to_plot_skill\u001b[0m\u001b[0;34m)\u001b[0m\u001b[0;34m\u001b[0m\u001b[0;34m\u001b[0m\u001b[0m\n\u001b[0m",
      "\u001b[0;32m~/Projects/PyMME/pymme.py\u001b[0m in \u001b[0;36mplot\u001b[0;34m(self, setting, point, years, methods, hindcasts, training_forecasts, metrics, rte_forecasts, mme_members)\u001b[0m\n\u001b[1;32m    929\u001b[0m \u001b[0;34m\u001b[0m\u001b[0m\n\u001b[1;32m    930\u001b[0m                                                 \u001b[0;32mif\u001b[0m \u001b[0mkeys\u001b[0m\u001b[0;34m[\u001b[0m\u001b[0mj\u001b[0m\u001b[0;34m]\u001b[0m \u001b[0;32min\u001b[0m \u001b[0;34m[\u001b[0m\u001b[0;34m'SpearmanCoef'\u001b[0m\u001b[0;34m,\u001b[0m \u001b[0;34m'PearsonCoef'\u001b[0m\u001b[0;34m]\u001b[0m\u001b[0;34m:\u001b[0m\u001b[0;34m\u001b[0m\u001b[0;34m\u001b[0m\u001b[0m\n\u001b[0;32m--> 931\u001b[0;31m                                                         \u001b[0mCS1\u001b[0m \u001b[0;34m=\u001b[0m \u001b[0max\u001b[0m\u001b[0;34m[\u001b[0m\u001b[0mi\u001b[0m\u001b[0;34m]\u001b[0m\u001b[0;34m[\u001b[0m\u001b[0mj\u001b[0m\u001b[0;34m]\u001b[0m\u001b[0;34m.\u001b[0m\u001b[0mpcolormesh\u001b[0m\u001b[0;34m(\u001b[0m\u001b[0mnp\u001b[0m\u001b[0;34m.\u001b[0m\u001b[0mlinspace\u001b[0m\u001b[0;34m(\u001b[0m\u001b[0mself\u001b[0m\u001b[0;34m.\u001b[0m\u001b[0mlons\u001b[0m\u001b[0;34m[\u001b[0m\u001b[0;36m0\u001b[0m\u001b[0;34m]\u001b[0m\u001b[0;34m,\u001b[0m \u001b[0mself\u001b[0m\u001b[0;34m.\u001b[0m\u001b[0mlons\u001b[0m\u001b[0;34m[\u001b[0m\u001b[0;34m-\u001b[0m\u001b[0;36m1\u001b[0m\u001b[0;34m]\u001b[0m\u001b[0;34m,\u001b[0m\u001b[0mnum\u001b[0m\u001b[0;34m=\u001b[0m\u001b[0mself\u001b[0m\u001b[0;34m.\u001b[0m\u001b[0mlons\u001b[0m\u001b[0;34m.\u001b[0m\u001b[0mshape\u001b[0m\u001b[0;34m[\u001b[0m\u001b[0;36m0\u001b[0m\u001b[0;34m]\u001b[0m\u001b[0;34m)\u001b[0m\u001b[0;34m,\u001b[0m \u001b[0mnp\u001b[0m\u001b[0;34m.\u001b[0m\u001b[0mlinspace\u001b[0m\u001b[0;34m(\u001b[0m\u001b[0mself\u001b[0m\u001b[0;34m.\u001b[0m\u001b[0mlats\u001b[0m\u001b[0;34m[\u001b[0m\u001b[0;36m0\u001b[0m\u001b[0;34m]\u001b[0m\u001b[0;34m,\u001b[0m \u001b[0mself\u001b[0m\u001b[0;34m.\u001b[0m\u001b[0mlats\u001b[0m\u001b[0;34m[\u001b[0m\u001b[0;34m-\u001b[0m\u001b[0;36m1\u001b[0m\u001b[0;34m]\u001b[0m\u001b[0;34m,\u001b[0m \u001b[0mnum\u001b[0m\u001b[0;34m=\u001b[0m\u001b[0mself\u001b[0m\u001b[0;34m.\u001b[0m\u001b[0mlats\u001b[0m\u001b[0;34m.\u001b[0m\u001b[0mshape\u001b[0m\u001b[0;34m[\u001b[0m\u001b[0;36m0\u001b[0m\u001b[0;34m]\u001b[0m\u001b[0;34m)\u001b[0m\u001b[0;34m,\u001b[0m \u001b[0mself\u001b[0m\u001b[0;34m.\u001b[0m\u001b[0mxval_hindcast_metrics\u001b[0m\u001b[0;34m[\u001b[0m\u001b[0mkeys\u001b[0m\u001b[0;34m[\u001b[0m\u001b[0mj\u001b[0m\u001b[0;34m]\u001b[0m\u001b[0;34m]\u001b[0m\u001b[0;34m[\u001b[0m\u001b[0mforkeys\u001b[0m\u001b[0;34m[\u001b[0m\u001b[0mi\u001b[0m\u001b[0;34m]\u001b[0m\u001b[0;34m]\u001b[0m\u001b[0;34m,\u001b[0m \u001b[0mvmin\u001b[0m\u001b[0;34m=\u001b[0m\u001b[0;34m-\u001b[0m\u001b[0;36m1\u001b[0m\u001b[0;34m,\u001b[0m \u001b[0mvmax\u001b[0m\u001b[0;34m=\u001b[0m\u001b[0;36m1\u001b[0m\u001b[0;34m,\u001b[0m \u001b[0mcmap\u001b[0m\u001b[0;34m=\u001b[0m\u001b[0;34m'RdYlBu'\u001b[0m\u001b[0;34m)\u001b[0m \u001b[0;31m#adds probability of below normal where below normal is most likely  and nan everywhere else\u001b[0m\u001b[0;34m\u001b[0m\u001b[0;34m\u001b[0m\u001b[0m\n\u001b[0m\u001b[1;32m    932\u001b[0m                                                 \u001b[0;32melif\u001b[0m \u001b[0mkeys\u001b[0m\u001b[0;34m[\u001b[0m\u001b[0mj\u001b[0m\u001b[0;34m]\u001b[0m \u001b[0;32min\u001b[0m \u001b[0;34m[\u001b[0m\u001b[0;34m'IOA'\u001b[0m\u001b[0;34m]\u001b[0m\u001b[0;34m:\u001b[0m\u001b[0;34m\u001b[0m\u001b[0;34m\u001b[0m\u001b[0m\n\u001b[1;32m    933\u001b[0m                                                         \u001b[0mCS1\u001b[0m \u001b[0;34m=\u001b[0m \u001b[0max\u001b[0m\u001b[0;34m[\u001b[0m\u001b[0mi\u001b[0m\u001b[0;34m]\u001b[0m\u001b[0;34m[\u001b[0m\u001b[0mj\u001b[0m\u001b[0;34m]\u001b[0m\u001b[0;34m.\u001b[0m\u001b[0mpcolormesh\u001b[0m\u001b[0;34m(\u001b[0m\u001b[0mnp\u001b[0m\u001b[0;34m.\u001b[0m\u001b[0mlinspace\u001b[0m\u001b[0;34m(\u001b[0m\u001b[0mself\u001b[0m\u001b[0;34m.\u001b[0m\u001b[0mlons\u001b[0m\u001b[0;34m[\u001b[0m\u001b[0;36m0\u001b[0m\u001b[0;34m]\u001b[0m\u001b[0;34m,\u001b[0m \u001b[0mself\u001b[0m\u001b[0;34m.\u001b[0m\u001b[0mlons\u001b[0m\u001b[0;34m[\u001b[0m\u001b[0;34m-\u001b[0m\u001b[0;36m1\u001b[0m\u001b[0;34m]\u001b[0m\u001b[0;34m,\u001b[0m\u001b[0mnum\u001b[0m\u001b[0;34m=\u001b[0m\u001b[0mself\u001b[0m\u001b[0;34m.\u001b[0m\u001b[0mlons\u001b[0m\u001b[0;34m.\u001b[0m\u001b[0mshape\u001b[0m\u001b[0;34m[\u001b[0m\u001b[0;36m0\u001b[0m\u001b[0;34m]\u001b[0m\u001b[0;34m)\u001b[0m\u001b[0;34m,\u001b[0m \u001b[0mnp\u001b[0m\u001b[0;34m.\u001b[0m\u001b[0mlinspace\u001b[0m\u001b[0;34m(\u001b[0m\u001b[0mself\u001b[0m\u001b[0;34m.\u001b[0m\u001b[0mlats\u001b[0m\u001b[0;34m[\u001b[0m\u001b[0;36m0\u001b[0m\u001b[0;34m]\u001b[0m\u001b[0;34m,\u001b[0m \u001b[0mself\u001b[0m\u001b[0;34m.\u001b[0m\u001b[0mlats\u001b[0m\u001b[0;34m[\u001b[0m\u001b[0;34m-\u001b[0m\u001b[0;36m1\u001b[0m\u001b[0;34m]\u001b[0m\u001b[0;34m,\u001b[0m \u001b[0mnum\u001b[0m\u001b[0;34m=\u001b[0m\u001b[0mself\u001b[0m\u001b[0;34m.\u001b[0m\u001b[0mlats\u001b[0m\u001b[0;34m.\u001b[0m\u001b[0mshape\u001b[0m\u001b[0;34m[\u001b[0m\u001b[0;36m0\u001b[0m\u001b[0;34m]\u001b[0m\u001b[0;34m)\u001b[0m\u001b[0;34m,\u001b[0m \u001b[0mself\u001b[0m\u001b[0;34m.\u001b[0m\u001b[0mxval_hindcast_metrics\u001b[0m\u001b[0;34m[\u001b[0m\u001b[0mkeys\u001b[0m\u001b[0;34m[\u001b[0m\u001b[0mj\u001b[0m\u001b[0;34m]\u001b[0m\u001b[0;34m]\u001b[0m\u001b[0;34m[\u001b[0m\u001b[0mforkeys\u001b[0m\u001b[0;34m[\u001b[0m\u001b[0mi\u001b[0m\u001b[0;34m]\u001b[0m\u001b[0;34m]\u001b[0m\u001b[0;34m,\u001b[0m \u001b[0mvmin\u001b[0m\u001b[0;34m=\u001b[0m\u001b[0;36m0\u001b[0m\u001b[0;34m,\u001b[0m \u001b[0mvmax\u001b[0m\u001b[0;34m=\u001b[0m\u001b[0;36m1\u001b[0m\u001b[0;34m,\u001b[0m \u001b[0mcmap\u001b[0m\u001b[0;34m=\u001b[0m\u001b[0;34m'RdYlBu'\u001b[0m\u001b[0;34m)\u001b[0m \u001b[0;31m#adds probability of below normal where below normal is most likely  and nan everywhere else\u001b[0m\u001b[0;34m\u001b[0m\u001b[0;34m\u001b[0m\u001b[0m\n",
      "\u001b[0;31mKeyError\u001b[0m: 'EM'"
     ]
    },
    {
     "data": {
      "image/png": "[encoded data removed]",
      "text/plain": [
       "<Figure size 864x1152 with 13 Axes>"
      ]
     },
     "metadata": {
      "needs_background": "light"
     },
     "output_type": "display_data"
    }
   ],
   "source": [
    "mme.plot(setting='xval_hindcast_skill', hindcasts=mme_methodologies_to_plot_skill, metrics=metrics_to_plot_skill)"
   ]
  },
  {
   "cell_type": "markdown",
   "metadata": {},
   "source": [
    "#### 2e. Cross-Validated Hindcast Timeline (Single Point - select indexes)"
   ]
  },
  {
   "cell_type": "code",
   "execution_count": null,
   "metadata": {},
   "outputs": [],
   "source": [
    "mme.plot(point=[15,15], methods=mme_methodologies_to_plot_skill)"
   ]
  },
  {
   "cell_type": "markdown",
   "metadata": {},
   "source": [
    "#### 2f. Saving MME - Do Not Edit"
   ]
  },
  {
   "cell_type": "code",
   "execution_count": null,
   "metadata": {},
   "outputs": [],
   "source": [
    "if save_file != 'None':\n",
    "    mme.save(fname=save_file)\n",
    "    \n",
    "if hindcast_export_file != 'None':\n",
    "    mme.export(hindcast_export_file)\n",
    "    print('Saved {}'.format(hindcast_export_file))"
   ]
  },
  {
   "cell_type": "markdown",
   "metadata": {},
   "source": [
    "# 3. Forecast Evaluation - Training Skill\n",
    "#### 3a. Analysis Settings"
   ]
  },
  {
   "cell_type": "code",
   "execution_count": null,
   "metadata": {},
   "outputs": [],
   "source": [
    "#forecast analysis parameters \n",
    "forecast_methodologies = ['EM', 'BCEM', 'MLR', 'PCR', 'SVD', 'ELM', 'EWP',  'PCA-ELM' ] #'MLR', 'PCR', 'SVD', 'ELM', 'EWP',list of MME methodologies to use - available: ['EM', 'MLR', 'ELM', 'Ridge'] 'SLFN' also works but is slow for 2D data\n",
    "metrics = ['SpearmanCoef', 'PearsonCoef', 'RMSE', 'MAE', 'IOA'] #list of metrics to compute - available: ['SpearmanCoef', 'SpearmanP', 'PearsonCoef', 'PearsonP', 'MSE', 'MAE', 'RMSE', 'IOA']\n",
    "\n",
    "#skill plotting parameters - plot forecast training skill (skill of model trained on data at predicting same data)\n",
    "metrics_to_plot_skill = ['SpearmanCoef',  'PearsonCoef',  'RMSE', 'IOA'] #you have to have selected these for analysis in order to plot them \n",
    "forecast_methodologies_to_plot_skill = ['EM', 'BCEM',  'PCA-ELM'] #''MLR', 'PCR', 'ELM', 'EWP','SVD', you have to have selected these for analysis in order to plot them \n",
    "models_to_plot_skill = ['Model 1', 'Model 2'] #'Model {}' from 1 to n mme member models"
   ]
  },
  {
   "cell_type": "markdown",
   "metadata": {},
   "source": [
    "#### 3b. Forecast Model Computation - Do Not Edit"
   ]
  },
  {
   "cell_type": "code",
   "execution_count": null,
   "metadata": {},
   "outputs": [],
   "source": [
    "print('\\nComputing MMEs')\n",
    "for method in forecast_methodologies:\n",
    "    print(method)\n",
    "    if method == 'MLR':\n",
    "        mme.train_forecast_model(method,  standardization=mlr_standardization, fit_intercept=mlr_fit_intercept)\n",
    "    elif method == 'PCR':\n",
    "        mme.train_forecast_model(method, standardization=pcr_standardization, fit_intercept=pcr_fit_intercept, pca_variability=pcr_pca_variability)\n",
    "    elif method == 'ELM':\n",
    "        mme.train_forecast_model(method,  hidden_layer_neurons=elm_hidden_layer_neurons, activation=elm_activation, standardization=elm_standardization, minmax_range=elm_minmax_range)\n",
    "    elif method== 'PCA-ELM':\n",
    "        mme.train_forecast_model(method,  activation=pcaelm_activation, standardization=pcaelm_standardization, minmax_range=pcaelm_minmax_range, pca_variability=pcaelm_pca_variability, W=True)\n",
    "    elif method== 'EWP':\n",
    "        mme.train_forecast_model(method,  hidden_layer_neurons=ewp_hidden_layer_neurons, activation=ewp_activation, standardization=ewp_standardization, minmax_range=ewp_minmax_range, pca_variability=ewp_pca_variability, W=False)\n",
    "    elif method == 'SVD':\n",
    "        mme.train_forecast_model(method,  standardization=svd_standardization)\n",
    "    elif method == 'EM':\n",
    "        mme.train_forecast_model(method, standardization=None)\n",
    "    elif method == 'BCEM':\n",
    "        mme.train_forecast_model(method,  standardization='std_anomaly')\n",
    "    else:\n",
    "        print('Invalid MME {}'.format(method))\n",
    "\n",
    "print('\\nCalculating Skill')\n",
    "spearman_flag, pearson_flag = 0, 0\n",
    "for metric in metrics:\n",
    "    print(metric)\n",
    "    if metric in ['SpearmanCoef', 'SpearmanP'] and spearman_flag == 0:\n",
    "        spearman_flag = 1 \n",
    "        mme.Spearman(setting='training_forecast_metrics')\n",
    "    elif metric in ['PearsonCoef', 'PearsonP'] and pearson_flag == 0:\n",
    "        pearson_flag = 1\n",
    "        mme.Pearson(setting='training_forecast_metrics')\n",
    "    elif metric == 'MAE':\n",
    "        mme.MAE(setting='training_forecast_metrics')\n",
    "    elif metric == 'MSE':\n",
    "        mme.MSE(setting='training_forecast_metrics')\n",
    "    elif metric == 'RMSE':\n",
    "        mme.MSE(squared=False, setting='training_forecast_metrics')\n",
    "    elif metric == 'IOA':\n",
    "        mme.IOA(setting='training_forecast_metrics')\n",
    "    else:\n",
    "        print('Invalid Metric {}'.format(metric))\n",
    "\n",
    "print('\\nDone')"
   ]
  },
  {
   "cell_type": "markdown",
   "metadata": {},
   "source": [
    "#### 3c. Forecast Skill - Training Data - Do Not Edit"
   ]
  },
  {
   "cell_type": "code",
   "execution_count": null,
   "metadata": {},
   "outputs": [],
   "source": [
    "mme.plot(setting='training_forecast_skill', training_forecasts=forecast_methodologies_to_plot_skill, metrics=metrics_to_plot_skill)"
   ]
  },
  {
   "cell_type": "markdown",
   "metadata": {},
   "source": [
    "# 4. Real Time Forecasting\n",
    "#### 4a. Real Time Forecast Settings"
   ]
  },
  {
   "cell_type": "code",
   "execution_count": null,
   "metadata": {},
   "outputs": [],
   "source": [
    "#forecast analysis parameters \n",
    "forecast_methodologies = ['EM', 'BCEM', 'MLR', 'PCR', 'SVD', 'ELM', 'EWP',  'PCA-ELM'   ] #list of MME methodologies to use - available: ['EM', 'MLR', 'ELM', 'Ridge'] 'SLFN' also works but is slow for 2D data"
   ]
  },
  {
   "cell_type": "code",
   "execution_count": null,
   "metadata": {
    "scrolled": false
   },
   "outputs": [],
   "source": [
    "try:\n",
    "    mme.ncdf_forecast_data = []\n",
    "    inputs = mme.read_multiple_ncdf(f_ncdf_directory, 'None', latitude_key=latitude_key, longitude_key=longitude_key, time_key='T', obs_time_key=observations_time_key, axis_order=axis_order, is_forecast=True)\n",
    "except:\n",
    "    inputs = mme.read_full_ncdf(f_filepath, latitude_key=latitude_key, longitude_key=longitude_key, time_key=time_key, obs_time_key=observations_time_key, observations_key=observations_key, using_datetime=using_datetime, axis_order=axis_order, is_forecast=True)\n",
    "\n",
    "print(inputs[:,0,0,:].transpose().shape)    \n",
    "for method in forecast_methodologies:\n",
    "    print(method)\n",
    "    if method == 'MLR':\n",
    "        print(mme.forecast(inputs, method,  standardization=mlr_standardization, fit_intercept=mlr_fit_intercept).shape)\n",
    "    elif method == 'PCR':  ##how to do pca  on new data??\n",
    "        print(mme.forecast(inputs, method, standardization=pcr_standardization, fit_intercept=pcr_fit_intercept, pca_variability=pcr_pca_variability).shape)\n",
    "    elif method == 'ELM':\n",
    "        print(mme.forecast(inputs, method,  hidden_layer_neurons=elm_hidden_layer_neurons, activation=elm_activation, standardization=elm_standardization, minmax_range=elm_minmax_range).shape)\n",
    "    elif method== 'PCA-ELM': ##how to do pca  on new data??\n",
    "        print(mme.forecast(inputs, method,  activation=pcaelm_activation, standardization=pcaelm_standardization, minmax_range=pcaelm_minmax_range, pca_variability=pcaelm_pca_variability, W=True).shape)\n",
    "    elif method== 'EWP':##how to do pca  on new data??\n",
    "        print(mme.forecast(inputs, method,  hidden_layer_neurons=ewp_hidden_layer_neurons, activation=ewp_activation, standardization=ewp_standardization, minmax_range=ewp_minmax_range, pca_variability=ewp_pca_variability, W=False).shape)\n",
    "    elif method == 'SVD':\n",
    "        print(mme.forecast(inputs, method,  standardization=svd_standardization).shape)\n",
    "    elif method == 'EM':\n",
    "        print(mme.forecast(inputs, method, standardization=None).shape)\n",
    "    elif method == 'BCEM':\n",
    "        print(mme.forecast(inputs, method,  standardization='std_anomaly').shape)\n",
    "    else:\n",
    "        print('Invalid MME {}'.format(method))"
   ]
  },
  {
   "cell_type": "markdown",
   "metadata": {},
   "source": [
    "## 4b. Deterministic Forecasts"
   ]
  },
  {
   "cell_type": "code",
   "execution_count": null,
   "metadata": {},
   "outputs": [],
   "source": [
    "\n",
    "mme.plot(setting='Real Time Deterministic Forecast', rte_forecasts=forecast_methodologies)\n"
   ]
  },
  {
   "cell_type": "code",
   "execution_count": null,
   "metadata": {},
   "outputs": [],
   "source": []
  }
 ],
 "metadata": {
  "kernelspec": {
   "display_name": "py38",
   "language": "python",
   "name": "py38"
  },
  "language_info": {
   "codemirror_mode": {
    "name": "ipython",
    "version": 3
   },
   "file_extension": ".py",
   "mimetype": "text/x-python",
   "name": "python",
   "nbconvert_exporter": "python",
   "pygments_lexer": "ipython3",
   "version": "3.8.5"
  }
 },
 "nbformat": 4,
 "nbformat_minor": 4
}
