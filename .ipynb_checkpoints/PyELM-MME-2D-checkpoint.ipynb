{
 "cells": [
  {
   "cell_type": "markdown",
   "metadata": {},
   "source": [
    "# 1. Notebook Settings"
   ]
  },
  {
   "cell_type": "code",
   "execution_count": 1,
   "metadata": {},
   "outputs": [],
   "source": [
    "#Directory data loading parameters - training data\n",
    "hindcast_directory = 'test_data/hindcasts/'              #name of directory with separate ncdf files for observations and each model \n",
    "hcst_observations_file = 'chirps_hindcast.nc'    #name of file within ncdf_directory with observations data\n",
    "\n",
    "#Directory data loading parameters - forecast data\n",
    "forecast_directory = 'test_data/forecasts/'              #name of directory with separate ncdf files for observations and each model \n",
    "fcst_observations_file = 'test_data/chirps_forecast.nc'\n",
    "\n",
    "#shared loading parameters\n",
    "latitude_key = 'Y'                        #name of latitude coordinate in your ncdf file\n",
    "longitude_key='X'                         #name of longitude coordinate in your ncdf file \n",
    "time_key = 'S'                            #name of time coordinate in your ncdf file \n",
    "obs_time_key = 'T'\n"
   ]
  },
  {
   "cell_type": "markdown",
   "metadata": {},
   "source": [
    "# 2. MME Skill Evaluation\n",
    "#### 2a. Analysis Settings"
   ]
  },
  {
   "cell_type": "code",
   "execution_count": 2,
   "metadata": {},
   "outputs": [],
   "source": [
    "#analysis parameters \n",
    "mme_methodologies = ['EM', 'MLR',  'ELM' ] #'MLR', 'PCR', 'SVD', 'ELM', 'EWP',list of MME methodologies to use - available: ['EM', 'MLR', 'ELM', 'Ridge'] 'SLFN' also works but is slow for 2D data\n",
    "metrics = ['SpearmanCoef', 'PearsonCoef', 'RMSE', 'MSE',  'MAE', 'IOA'] #list of metrics to compute - available: ['SpearmanCoef', 'SpearmanP', 'PearsonCoef', 'PearsonP', 'MSE', 'MAE', 'RMSE', 'IOA']"
   ]
  },
  {
   "cell_type": "markdown",
   "metadata": {},
   "source": [
    "#### 2b. Model Parameters"
   ]
  },
  {
   "cell_type": "code",
   "execution_count": 3,
   "metadata": {},
   "outputs": [],
   "source": [
    "args = {\n",
    "    #EnsembleMean settings\n",
    "    'em_xval_window': 1,               #odd number - behavior undefined for even number\n",
    "\n",
    "    #MLR Settings\n",
    "    'mlr_fit_intercept': True,         #Whether to calculate the intercept for this model. If set to False, no intercept will be used in calculations (i.e. data is expected to be centered) (https://scikit-learn.org/stable/modules/generated/sklearn.linear_model.LinearRegression.html)\n",
    "    'mlr_xval_window': 1,               #odd number - behavior undefined for even number\n",
    "    'mlr_standardization': None,        #'std_anomaly' or None\n",
    "\n",
    "    #ELM Settings \n",
    "    'elm_xval_window': 1,              #odd number - behavior undefined for even number\n",
    "    'elm_hidden_layer_neurons':10,     #number of hidden layer neurons - overridden if using PCA init\n",
    "    'elm_activation': 'sigm',          #“lin” for linear, “sigm” or “tanh” for non-linear, “rbf_l1”, “rbf_l2” or “rbf_linf” for radial basis function neurons (https://hpelm.readthedocs.io/en/latest/api/elm.html)\n",
    "    'elm_standardization' : 'minmax',  #'minmax' or 'std_anomaly' or None\n",
    "    'elm_minmax_range': [-1, 1]        #choose [minimum, maximum] values for minmax scaling. ignored if not using minmax scaling\n",
    "}\n"
   ]
  },
  {
   "cell_type": "markdown",
   "metadata": {},
   "source": [
    "#### 2c. Model Construction - Do Not Edit"
   ]
  },
  {
   "cell_type": "code",
   "execution_count": 4,
   "metadata": {},
   "outputs": [
    {
     "ename": "ValueError",
     "evalue": "cannot rename 'S' because it is not a variable or coordinate in this dataset",
     "output_type": "error",
     "traceback": [
      "\u001b[0;31m---------------------------------------------------------------------------\u001b[0m",
      "\u001b[0;31mValueError\u001b[0m                                Traceback (most recent call last)",
      "\u001b[0;32m<ipython-input-4-b8cca1a1af18>\u001b[0m in \u001b[0;36m<module>\u001b[0;34m\u001b[0m\n\u001b[1;32m      2\u001b[0m \u001b[0;34m\u001b[0m\u001b[0m\n\u001b[1;32m      3\u001b[0m \u001b[0mreader\u001b[0m \u001b[0;34m=\u001b[0m \u001b[0mReader\u001b[0m\u001b[0;34m(\u001b[0m\u001b[0;34m)\u001b[0m  \u001b[0;31m#Object that will handle our input data\u001b[0m\u001b[0;34m\u001b[0m\u001b[0;34m\u001b[0m\u001b[0m\n\u001b[0;32m----> 4\u001b[0;31m \u001b[0mdata\u001b[0m \u001b[0;34m=\u001b[0m \u001b[0mreader\u001b[0m\u001b[0;34m.\u001b[0m\u001b[0mread_multiple_ncdf\u001b[0m\u001b[0;34m(\u001b[0m\u001b[0mhindcast_directory\u001b[0m\u001b[0;34m,\u001b[0m \u001b[0mobservations_filename\u001b[0m\u001b[0;34m=\u001b[0m\u001b[0mhcst_observations_file\u001b[0m\u001b[0;34m,\u001b[0m \u001b[0mlatitude_key\u001b[0m\u001b[0;34m=\u001b[0m\u001b[0mlatitude_key\u001b[0m\u001b[0;34m,\u001b[0m \u001b[0mlongitude_key\u001b[0m\u001b[0;34m=\u001b[0m\u001b[0mlongitude_key\u001b[0m\u001b[0;34m,\u001b[0m \u001b[0mtime_key\u001b[0m\u001b[0;34m=\u001b[0m\u001b[0mtime_key\u001b[0m\u001b[0;34m)\u001b[0m\u001b[0;34m\u001b[0m\u001b[0;34m\u001b[0m\u001b[0m\n\u001b[0m\u001b[1;32m      5\u001b[0m \u001b[0mmme\u001b[0m \u001b[0;34m=\u001b[0m \u001b[0mMME\u001b[0m\u001b[0;34m(\u001b[0m\u001b[0mdata\u001b[0m\u001b[0;34m)\u001b[0m\u001b[0;34m\u001b[0m\u001b[0;34m\u001b[0m\u001b[0m\n\u001b[1;32m      6\u001b[0m \u001b[0mmme\u001b[0m\u001b[0;34m.\u001b[0m\u001b[0mtrain_mmes\u001b[0m\u001b[0;34m(\u001b[0m\u001b[0mmme_methodologies\u001b[0m\u001b[0;34m,\u001b[0m \u001b[0margs\u001b[0m\u001b[0;34m)\u001b[0m\u001b[0;34m\u001b[0m\u001b[0;34m\u001b[0m\u001b[0m\n",
      "\u001b[0;32m~/Projects/PyELM-MME/src/reader.py\u001b[0m in \u001b[0;36mread_multiple_ncdf\u001b[0;34m(self, dir_path, observations_filename, latitude_key, longitude_key, time_key)\u001b[0m\n\u001b[1;32m     74\u001b[0m                         \u001b[0;31m#open the observations nc file\u001b[0m\u001b[0;34m\u001b[0m\u001b[0;34m\u001b[0m\u001b[0;34m\u001b[0m\u001b[0m\n\u001b[1;32m     75\u001b[0m                         \u001b[0mObs_DS\u001b[0m \u001b[0;34m=\u001b[0m \u001b[0mxr\u001b[0m\u001b[0;34m.\u001b[0m\u001b[0mopen_dataset\u001b[0m\u001b[0;34m(\u001b[0m\u001b[0mPath\u001b[0m\u001b[0;34m(\u001b[0m\u001b[0mdir_path\u001b[0m\u001b[0;34m)\u001b[0m \u001b[0;34m/\u001b[0m \u001b[0mobservations_filename\u001b[0m\u001b[0;34m,\u001b[0m \u001b[0mdecode_times\u001b[0m\u001b[0;34m=\u001b[0m\u001b[0;32mFalse\u001b[0m\u001b[0;34m)\u001b[0m\u001b[0;34m\u001b[0m\u001b[0;34m\u001b[0m\u001b[0m\n\u001b[0;32m---> 76\u001b[0;31m                         \u001b[0mObs_DS\u001b[0m \u001b[0;34m=\u001b[0m \u001b[0mObs_DS\u001b[0m\u001b[0;34m.\u001b[0m\u001b[0mrename_vars\u001b[0m\u001b[0;34m(\u001b[0m\u001b[0;34m{\u001b[0m\u001b[0mlatitude_key\u001b[0m\u001b[0;34m:\u001b[0m\u001b[0;34m'latitude'\u001b[0m\u001b[0;34m,\u001b[0m \u001b[0mlongitude_key\u001b[0m\u001b[0;34m:\u001b[0m\u001b[0;34m'longitude'\u001b[0m\u001b[0;34m,\u001b[0m \u001b[0mtime_key\u001b[0m\u001b[0;34m:\u001b[0m\u001b[0;34m'time'\u001b[0m\u001b[0;34m}\u001b[0m\u001b[0;34m)\u001b[0m\u001b[0;34m\u001b[0m\u001b[0;34m\u001b[0m\u001b[0m\n\u001b[0m\u001b[1;32m     77\u001b[0m                         \u001b[0;32mif\u001b[0m \u001b[0;34m'M'\u001b[0m \u001b[0;32min\u001b[0m \u001b[0mObs_DS\u001b[0m\u001b[0;34m.\u001b[0m\u001b[0mcoords\u001b[0m\u001b[0;34m:\u001b[0m\u001b[0;34m\u001b[0m\u001b[0;34m\u001b[0m\u001b[0m\n\u001b[1;32m     78\u001b[0m                                 \u001b[0mObs_DS\u001b[0m \u001b[0;34m=\u001b[0m \u001b[0mObs_DS\u001b[0m\u001b[0;34m.\u001b[0m\u001b[0mmean\u001b[0m\u001b[0;34m(\u001b[0m\u001b[0mdim\u001b[0m\u001b[0;34m=\u001b[0m\u001b[0;34m'M'\u001b[0m\u001b[0;34m)\u001b[0m\u001b[0;34m\u001b[0m\u001b[0;34m\u001b[0m\u001b[0m\n",
      "\u001b[0;32m~/miniconda/envs/py38/lib/python3.8/site-packages/xarray/core/dataset.py\u001b[0m in \u001b[0;36mrename_vars\u001b[0;34m(self, name_dict, **names)\u001b[0m\n\u001b[1;32m   2939\u001b[0m         \u001b[0;32mfor\u001b[0m \u001b[0mk\u001b[0m \u001b[0;32min\u001b[0m \u001b[0mname_dict\u001b[0m\u001b[0;34m:\u001b[0m\u001b[0;34m\u001b[0m\u001b[0;34m\u001b[0m\u001b[0m\n\u001b[1;32m   2940\u001b[0m             \u001b[0;32mif\u001b[0m \u001b[0mk\u001b[0m \u001b[0;32mnot\u001b[0m \u001b[0;32min\u001b[0m \u001b[0mself\u001b[0m\u001b[0;34m:\u001b[0m\u001b[0;34m\u001b[0m\u001b[0;34m\u001b[0m\u001b[0m\n\u001b[0;32m-> 2941\u001b[0;31m                 raise ValueError(\n\u001b[0m\u001b[1;32m   2942\u001b[0m                     \u001b[0;34m\"cannot rename %r because it is not a \"\u001b[0m\u001b[0;34m\u001b[0m\u001b[0;34m\u001b[0m\u001b[0m\n\u001b[1;32m   2943\u001b[0m                     \u001b[0;34m\"variable or coordinate in this dataset\"\u001b[0m \u001b[0;34m%\u001b[0m \u001b[0mk\u001b[0m\u001b[0;34m\u001b[0m\u001b[0;34m\u001b[0m\u001b[0m\n",
      "\u001b[0;31mValueError\u001b[0m: cannot rename 'S' because it is not a variable or coordinate in this dataset"
     ]
    }
   ],
   "source": [
    "from src import * \n",
    "\n",
    "reader = Reader()  #Object that will handle our input data\n",
    "data = reader.read_multiple_ncdf(hindcast_directory, observations_filename=hcst_observations_file, latitude_key=latitude_key, longitude_key=longitude_key,obs_time_key=obs_time_key, time_key=time_key)\n",
    "mme = MME(data)\n",
    "mme.train_mmes(mme_methodologies, args)\n",
    "mme.measure_skill(skill_metrics)"
   ]
  },
  {
   "cell_type": "markdown",
   "metadata": {},
   "source": [
    "#### 2d. Cross-Validated Hindcast Skill Maps - Do Not Edit"
   ]
  },
  {
   "cell_type": "code",
   "execution_count": null,
   "metadata": {},
   "outputs": [],
   "source": [
    "mme.plot(setting='xval_hindcast_skill', hindcasts=mme_methodologies_to_plot_skill, metrics=metrics_to_plot_skill)"
   ]
  },
  {
   "cell_type": "markdown",
   "metadata": {},
   "source": [
    "#### 2e. Cross-Validated Hindcast Timeline (Single Point - select indexes)"
   ]
  },
  {
   "cell_type": "code",
   "execution_count": null,
   "metadata": {},
   "outputs": [],
   "source": [
    "mme.plot(point=[15,15], methods=mme_methodologies_to_plot_skill)"
   ]
  },
  {
   "cell_type": "markdown",
   "metadata": {},
   "source": [
    "#### 2f. Saving MME - Do Not Edit"
   ]
  },
  {
   "cell_type": "code",
   "execution_count": null,
   "metadata": {},
   "outputs": [],
   "source": [
    "if save_file != 'None':\n",
    "    mme.save(fname=save_file)\n",
    "    \n",
    "if hindcast_export_file != 'None':\n",
    "    mme.export(hindcast_export_file)\n",
    "    print('Saved {}'.format(hindcast_export_file))"
   ]
  },
  {
   "cell_type": "markdown",
   "metadata": {},
   "source": [
    "# 3. Forecast Evaluation - Training Skill\n",
    "#### 3a. Analysis Settings"
   ]
  },
  {
   "cell_type": "code",
   "execution_count": null,
   "metadata": {},
   "outputs": [],
   "source": [
    "#forecast analysis parameters \n",
    "forecast_methodologies = ['EM', 'BCEM', 'MLR', 'PCR', 'SVD', 'ELM', 'EWP',  'PCA-ELM' ] #'MLR', 'PCR', 'SVD', 'ELM', 'EWP',list of MME methodologies to use - available: ['EM', 'MLR', 'ELM', 'Ridge'] 'SLFN' also works but is slow for 2D data\n",
    "metrics = ['SpearmanCoef', 'PearsonCoef', 'RMSE', 'MAE', 'IOA'] #list of metrics to compute - available: ['SpearmanCoef', 'SpearmanP', 'PearsonCoef', 'PearsonP', 'MSE', 'MAE', 'RMSE', 'IOA']\n",
    "\n",
    "#skill plotting parameters - plot forecast training skill (skill of model trained on data at predicting same data)\n",
    "metrics_to_plot_skill = ['SpearmanCoef',  'PearsonCoef',  'RMSE', 'IOA'] #you have to have selected these for analysis in order to plot them \n",
    "forecast_methodologies_to_plot_skill = ['EM', 'BCEM',  'PCA-ELM'] #''MLR', 'PCR', 'ELM', 'EWP','SVD', you have to have selected these for analysis in order to plot them \n",
    "models_to_plot_skill = ['Model 1', 'Model 2'] #'Model {}' from 1 to n mme member models"
   ]
  },
  {
   "cell_type": "markdown",
   "metadata": {},
   "source": [
    "#### 3b. Forecast Model Computation - Do Not Edit"
   ]
  },
  {
   "cell_type": "code",
   "execution_count": null,
   "metadata": {},
   "outputs": [],
   "source": [
    "print('\\nComputing MMEs')\n",
    "for method in forecast_methodologies:\n",
    "    print(method)\n",
    "    if method == 'MLR':\n",
    "        mme.train_forecast_model(method,  standardization=mlr_standardization, fit_intercept=mlr_fit_intercept)\n",
    "    elif method == 'PCR':\n",
    "        mme.train_forecast_model(method, standardization=pcr_standardization, fit_intercept=pcr_fit_intercept, pca_variability=pcr_pca_variability)\n",
    "    elif method == 'ELM':\n",
    "        mme.train_forecast_model(method,  hidden_layer_neurons=elm_hidden_layer_neurons, activation=elm_activation, standardization=elm_standardization, minmax_range=elm_minmax_range)\n",
    "    elif method== 'PCA-ELM':\n",
    "        mme.train_forecast_model(method,  activation=pcaelm_activation, standardization=pcaelm_standardization, minmax_range=pcaelm_minmax_range, pca_variability=pcaelm_pca_variability, W=True)\n",
    "    elif method== 'EWP':\n",
    "        mme.train_forecast_model(method,  hidden_layer_neurons=ewp_hidden_layer_neurons, activation=ewp_activation, standardization=ewp_standardization, minmax_range=ewp_minmax_range, pca_variability=ewp_pca_variability, W=False)\n",
    "    elif method == 'SVD':\n",
    "        mme.train_forecast_model(method,  standardization=svd_standardization)\n",
    "    elif method == 'EM':\n",
    "        mme.train_forecast_model(method, standardization=None)\n",
    "    elif method == 'BCEM':\n",
    "        mme.train_forecast_model(method,  standardization='std_anomaly')\n",
    "    else:\n",
    "        print('Invalid MME {}'.format(method))\n",
    "\n",
    "print('\\nCalculating Skill')\n",
    "spearman_flag, pearson_flag = 0, 0\n",
    "for metric in metrics:\n",
    "    print(metric)\n",
    "    if metric in ['SpearmanCoef', 'SpearmanP'] and spearman_flag == 0:\n",
    "        spearman_flag = 1 \n",
    "        mme.Spearman(setting='training_forecast_metrics')\n",
    "    elif metric in ['PearsonCoef', 'PearsonP'] and pearson_flag == 0:\n",
    "        pearson_flag = 1\n",
    "        mme.Pearson(setting='training_forecast_metrics')\n",
    "    elif metric == 'MAE':\n",
    "        mme.MAE(setting='training_forecast_metrics')\n",
    "    elif metric == 'MSE':\n",
    "        mme.MSE(setting='training_forecast_metrics')\n",
    "    elif metric == 'RMSE':\n",
    "        mme.MSE(squared=False, setting='training_forecast_metrics')\n",
    "    elif metric == 'IOA':\n",
    "        mme.IOA(setting='training_forecast_metrics')\n",
    "    else:\n",
    "        print('Invalid Metric {}'.format(metric))\n",
    "\n",
    "print('\\nDone')"
   ]
  },
  {
   "cell_type": "markdown",
   "metadata": {},
   "source": [
    "#### 3c. Forecast Skill - Training Data - Do Not Edit"
   ]
  },
  {
   "cell_type": "code",
   "execution_count": null,
   "metadata": {},
   "outputs": [],
   "source": [
    "mme.plot(setting='training_forecast_skill', training_forecasts=forecast_methodologies_to_plot_skill, metrics=metrics_to_plot_skill)"
   ]
  },
  {
   "cell_type": "markdown",
   "metadata": {},
   "source": [
    "# 4. Real Time Forecasting\n",
    "#### 4a. Real Time Forecast Settings"
   ]
  },
  {
   "cell_type": "code",
   "execution_count": null,
   "metadata": {},
   "outputs": [],
   "source": [
    "#forecast analysis parameters \n",
    "forecast_methodologies = ['EM', 'BCEM', 'MLR', 'PCR', 'SVD', 'ELM', 'EWP',  'PCA-ELM'   ] #list of MME methodologies to use - available: ['EM', 'MLR', 'ELM', 'Ridge'] 'SLFN' also works but is slow for 2D data"
   ]
  },
  {
   "cell_type": "code",
   "execution_count": null,
   "metadata": {
    "scrolled": false
   },
   "outputs": [],
   "source": [
    "try:\n",
    "    mme.ncdf_forecast_data = []\n",
    "    inputs = mme.read_multiple_ncdf(f_ncdf_directory, 'None', latitude_key=latitude_key, longitude_key=longitude_key, time_key='T', obs_time_key=observations_time_key, axis_order=axis_order, is_forecast=True)\n",
    "except:\n",
    "    inputs = mme.read_full_ncdf(f_filepath, latitude_key=latitude_key, longitude_key=longitude_key, time_key=time_key, obs_time_key=observations_time_key, observations_key=observations_key, using_datetime=using_datetime, axis_order=axis_order, is_forecast=True)\n",
    "\n",
    "print(inputs[:,0,0,:].transpose().shape)    \n",
    "for method in forecast_methodologies:\n",
    "    print(method)\n",
    "    if method == 'MLR':\n",
    "        print(mme.forecast(inputs, method,  standardization=mlr_standardization, fit_intercept=mlr_fit_intercept).shape)\n",
    "    elif method == 'PCR':  ##how to do pca  on new data??\n",
    "        print(mme.forecast(inputs, method, standardization=pcr_standardization, fit_intercept=pcr_fit_intercept, pca_variability=pcr_pca_variability).shape)\n",
    "    elif method == 'ELM':\n",
    "        print(mme.forecast(inputs, method,  hidden_layer_neurons=elm_hidden_layer_neurons, activation=elm_activation, standardization=elm_standardization, minmax_range=elm_minmax_range).shape)\n",
    "    elif method== 'PCA-ELM': ##how to do pca  on new data??\n",
    "        print(mme.forecast(inputs, method,  activation=pcaelm_activation, standardization=pcaelm_standardization, minmax_range=pcaelm_minmax_range, pca_variability=pcaelm_pca_variability, W=True).shape)\n",
    "    elif method== 'EWP':##how to do pca  on new data??\n",
    "        print(mme.forecast(inputs, method,  hidden_layer_neurons=ewp_hidden_layer_neurons, activation=ewp_activation, standardization=ewp_standardization, minmax_range=ewp_minmax_range, pca_variability=ewp_pca_variability, W=False).shape)\n",
    "    elif method == 'SVD':\n",
    "        print(mme.forecast(inputs, method,  standardization=svd_standardization).shape)\n",
    "    elif method == 'EM':\n",
    "        print(mme.forecast(inputs, method, standardization=None).shape)\n",
    "    elif method == 'BCEM':\n",
    "        print(mme.forecast(inputs, method,  standardization='std_anomaly').shape)\n",
    "    else:\n",
    "        print('Invalid MME {}'.format(method))"
   ]
  },
  {
   "cell_type": "markdown",
   "metadata": {},
   "source": [
    "## 4b. Deterministic Forecasts"
   ]
  },
  {
   "cell_type": "code",
   "execution_count": null,
   "metadata": {},
   "outputs": [],
   "source": [
    "\n",
    "mme.plot(setting='Real Time Deterministic Forecast', rte_forecasts=forecast_methodologies)\n"
   ]
  },
  {
   "cell_type": "code",
   "execution_count": null,
   "metadata": {},
   "outputs": [],
   "source": []
  }
 ],
 "metadata": {
  "kernelspec": {
   "display_name": "py38",
   "language": "python",
   "name": "py38"
  },
  "language_info": {
   "codemirror_mode": {
    "name": "ipython",
    "version": 3
   },
   "file_extension": ".py",
   "mimetype": "text/x-python",
   "name": "python",
   "nbconvert_exporter": "python",
   "pygments_lexer": "ipython3",
   "version": "3.8.5"
  }
 },
 "nbformat": 4,
 "nbformat_minor": 4
}
